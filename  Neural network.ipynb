{
 "cells": [
  {
   "cell_type": "markdown",
   "id": "693550b9",
   "metadata": {},
   "source": [
    "# Нейронная сеть"
   ]
  },
  {
   "cell_type": "code",
   "execution_count": null,
   "id": "af6d92fa",
   "metadata": {},
   "outputs": [],
   "source": [
    "import os\n",
    "import pandas as pd\n",
    "import pyarrow.parquet as pq\n",
    "from sklearn.preprocessing import StandardScaler\n",
    "from sklearn.model_selection import train_test_split\n",
    "from keras import layers, models, initializers, callbacks\n",
    "import matplotlib.pyplot as plt\n",
    "from sklearn.metrics import precision_score, recall_score, f1_score\n",
    "\n",
    "os.environ['TF_ENABLE_ONEDNN_OPTS'] = '0'\n",
    "\n",
    "# Прочтите данные из файла Parquet в DataFrame Pandas\n",
    "df = pd.read_csv(\"C:/Users/Saory-kun/Downloads/DataFrame40370.csv\")\n",
    "\n",
    "# Разделение на обучающую и тестовую выборки\n",
    "X = df.drop('target', axis=1)\n",
    "Y = df['target']\n",
    "x_train, x_test, y_train, y_test = train_test_split(X, Y, test_size=0.25, random_state=88)\n",
    "\n",
    "# Создаем архитектуру нейронной сети\n",
    "model = models.Sequential([\n",
    "    layers.Input(shape=(987,), name='inp'),\n",
    "    layers.Dense(196, activation='sigmoid', kernel_initializer=initializers.he_normal()),\n",
    "    layers.Dropout(0.2),\n",
    "    layers.Dense(64, activation='sigmoid', kernel_initializer=initializers.he_normal()),\n",
    "    layers.Dropout(0.2),\n",
    "    layers.Dense(8, activation='sigmoid', kernel_initializer=initializers.he_normal()),\n",
    "    layers.Dense(1, activation='sigmoid')\n",
    "])\n",
    "\n",
    "# Определение обратного вызова для уменьшения скорости обучения на плато\n",
    "reduce_lr_callback = callbacks.ReduceLROnPlateau(monitor='val_loss', factor=0.2, patience=5, min_lr=0.00001)\n",
    "\n",
    "# Компилируем модель с использованием среднего абсолютного отклонения и оптимизатора Adam\n",
    "model.compile(loss='mean_absolute_error', optimizer='adam')\n",
    "\n",
    "# Обучение модели с использованием обратного вызова для уменьшения скорости обучения\n",
    "history = model.fit(x_train, y_train, batch_size=32, epochs=500, verbose=True, validation_data=(x_test, y_test), callbacks=[reduce_lr_callback])\n",
    "\n",
    "\n",
    "# Предсказание на тестовых данных\n",
    "y_pred = model.predict(x_test)\n",
    "\n",
    "# Вычисление метрик качества\n",
    "precision = precision_score(y_test, y_pred.round(), average='weighted')\n",
    "recall = recall_score(y_test, y_pred.round(), average='weighted')\n",
    "f1 = f1_score(y_test, y_pred.round(), average='weighted')\n",
    "\n",
    "# Вывод результатов\n",
    "print(\"Precision:\", precision)\n",
    "print(\"Recall:\", recall)\n",
    "print(\"F1 Score:\", f1)\n",
    "\n",
    "# Визуализация процесса обучения\n",
    "plt.plot(history.history['loss'], label='train_loss')\n",
    "plt.plot(history.history['val_loss'], label='val_loss')\n",
    "plt.xlabel('Epoch')\n",
    "plt.ylabel('Loss')\n",
    "plt.legend()\n",
    "plt.show()\n",
    "\n",
    "# Сохранение модели\n",
    "model.save(\"model_40370_GL_7.h5\")"
   ]
  }
 ],
 "metadata": {
  "kernelspec": {
   "display_name": "Python (myenv)",
   "language": "python",
   "name": "myenv"
  },
  "language_info": {
   "codemirror_mode": {
    "name": "ipython",
    "version": 3
   },
   "file_extension": ".py",
   "mimetype": "text/x-python",
   "name": "python",
   "nbconvert_exporter": "python",
   "pygments_lexer": "ipython3",
   "version": "3.8.18"
  }
 },
 "nbformat": 4,
 "nbformat_minor": 5
}
